{
 "cells": [
  {
   "cell_type": "code",
   "execution_count": 153,
   "metadata": {
    "collapsed": false
   },
   "outputs": [],
   "source": [
    "import matplotlib\n",
    "import numpy as np\n",
    "import matplotlib.pyplot as plt\n",
    "import scipy\n",
    "from scipy import integrate, optimize\n",
    "%matplotlib inline \n",
    "import math"
   ]
  },
  {
   "cell_type": "code",
   "execution_count": 30,
   "metadata": {
    "collapsed": false
   },
   "outputs": [],
   "source": [
    "def integrate_function(fun, arg):\n",
    "    I = 0\n",
    "    h = float((arg[-1] - arg[0])/(len(arg) - 1))\n",
    "\n",
    "    for i, x in enumerate(arg[1:]):\n",
    "        I += (h)/2*float(fun[i]+fun[i+1])\n",
    "    return I\n"
   ]
  },
  {
   "cell_type": "markdown",
   "metadata": {},
   "source": [
    "# Тестирующий модуль"
   ]
  },
  {
   "cell_type": "code",
   "execution_count": 178,
   "metadata": {
    "collapsed": false
   },
   "outputs": [],
   "source": [
    "def test_integrate(fun, a, b, n):\n",
    "    arg = np.linspace(a, b, num=n)\n",
    "    \n",
    "    tab_func = list(map(lambda x:fun(x),arg))\n",
    "    my_integral = integrate_function(tab_func,arg)\n",
    "    true_integral = integrate.quad(fun, a, b)\n",
    "    print(\"scipy.integrate: %f\\nMy integrate module: %f\" % (true_integral[0], my_integral))\n",
    "    print(\"Difference:%f\" % (math.fabs(true_integral[0] - my_integral)))\n",
    "    return math.fabs(true_integral[0] - my_integral)"
   ]
  },
  {
   "cell_type": "code",
   "execution_count": 189,
   "metadata": {
    "collapsed": true
   },
   "outputs": [],
   "source": [
    "def linear(x,a,b):\n",
    "    return a*x+b\n",
    "\n",
    "def accuracy(fun, a, b):\n",
    "    ex = []\n",
    "    log_arg = [math.log(i*10) for i in range(10, 1000, 10)]\n",
    "\n",
    "    for x in range(10, 1000, 10):\n",
    "        arg = np.linspace(a, b, num=x +1)\n",
    "\n",
    "        tab_func = list(map(lambda x:fun(x),arg))\n",
    "        my_integral = integrate_function(tab_func,arg)\n",
    "        true_integral = integrate.quad(fun, a, b)\n",
    "        \n",
    "        ex.append(math.log(-true_integral[0] + my_integral))\n",
    "    plt.plot(log_arg,ex )\n",
    "    plt.xlabel(u'Count of segments')\n",
    "    plt.ylabel(u'Error')\n",
    "    plt.title(u'Error of module')\n",
    "    \n",
    "    plt.show()\n",
    "\n",
    "    print(\"-k = %f C = %f\" % (scipy.optimize.curve_fit(linear, log_arg, ex)[0][0], scipy.optimize.curve_fit(linear, log_arg, ex)[0][1]))"
   ]
  },
  {
   "cell_type": "code",
   "execution_count": 190,
   "metadata": {
    "collapsed": false
   },
   "outputs": [
    {
     "name": "stdout",
     "output_type": "stream",
     "text": [
      "scipy.integrate: 41.666667\n",
      "My integrate module: 41.675344\n",
      "Difference:0.008677\n",
      "scipy.integrate: 0.058502\n",
      "My integrate module: 0.070983\n",
      "Difference:0.012481\n",
      "scipy.integrate: 1.136550\n",
      "My integrate module: 1.143809\n",
      "Difference:0.007259\n"
     ]
    },
    {
     "data": {
      "image/png": "[encoded data removed]",
      "text/plain": [
       "<matplotlib.figure.Figure at 0x18a4d390>"
      ]
     },
     "metadata": {},
     "output_type": "display_data"
    },
    {
     "name": "stdout",
     "output_type": "stream",
     "text": [
      "-k = -2.000000 C = 7.641724\n"
     ]
    }
   ],
   "source": [
    "test_integrate(lambda x: x*x, 0, 5.0, 50)\n",
    "test_integrate(lambda x: 100*math.cos(x*3*math.pi)/(x*x+1), -5, 5, 50)\n",
    "test_integrate(lambda x: math.sin(1/x), 0.01, 2.0, 500)\n",
    "accuracy(lambda x :x*x , 0, 5)"
   ]
  },
  {
   "cell_type": "code",
   "execution_count": null,
   "metadata": {
    "collapsed": true
   },
   "outputs": [],
   "source": []
  }
 ],
 "metadata": {
  "kernelspec": {
   "display_name": "Python 2",
   "language": "python",
   "name": "python2"
  },
  "language_info": {
   "codemirror_mode": {
    "name": "ipython",
    "version": 2
   },
   "file_extension": ".py",
   "mimetype": "text/x-python",
   "name": "python",
   "nbconvert_exporter": "python",
   "pygments_lexer": "ipython2",
   "version": "2.7.12"
  }
 },
 "nbformat": 4,
 "nbformat_minor": 0
}
